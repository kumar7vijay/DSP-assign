{
  "metadata": {
    "kernelspec": {
      "name": "python",
      "display_name": "Python (Pyodide)",
      "language": "python"
    },
    "language_info": {
      "codemirror_mode": {
        "name": "python",
        "version": 3
      },
      "file_extension": ".py",
      "mimetype": "text/x-python",
      "name": "python",
      "nbconvert_exporter": "python",
      "pygments_lexer": "ipython3",
      "version": "3.8"
    }
  },
  "nbformat_minor": 4,
  "nbformat": 4,
  "cells": [
    {
      "cell_type": "markdown",
      "source": "## 1. Write a code to reverse a string.",
      "metadata": {}
    },
    {
      "cell_type": "markdown",
      "source": "Here’s a simple Python function to reverse a string:",
      "metadata": {}
    },
    {
      "cell_type": "code",
      "source": "def reverse_string(s):\n    return s[::-1]\n\n# Example usage\ninput_string = \"Hello, World!\"\nreversed_string = reverse_string(input_string)\nprint(reversed_string)",
      "metadata": {
        "trusted": true
      },
      "outputs": [
        {
          "name": "stdout",
          "text": "!dlroW ,olleH\n",
          "output_type": "stream"
        }
      ],
      "execution_count": 1
    },
    {
      "cell_type": "markdown",
      "source": "This code uses Python’s slicing feature to reverse the string efficiently.",
      "metadata": {}
    },
    {
      "cell_type": "markdown",
      "source": "## 2. Write a code to count the number of vowels in a string.",
      "metadata": {}
    },
    {
      "cell_type": "markdown",
      "source": "Here’s a simple Python function to count the number of vowels in a string:",
      "metadata": {}
    },
    {
      "cell_type": "code",
      "source": "def count_vowels(s):\n    vowels = \"aeiouAEIOU\"\n    count = sum(1 for char in s if char in vowels)\n    return count\n\n# Example usage\ninput_string = \"Hello, World!\"\nvowel_count = count_vowels(input_string)\nprint(vowel_count) ",
      "metadata": {
        "trusted": true
      },
      "outputs": [
        {
          "name": "stdout",
          "text": "3\n",
          "output_type": "stream"
        }
      ],
      "execution_count": 2
    },
    {
      "cell_type": "markdown",
      "source": "This code checks each character in the string and counts how many are vowels. ",
      "metadata": {}
    },
    {
      "cell_type": "markdown",
      "source": "## 3. Write a code to check if a given string is a palindrome or not.",
      "metadata": {}
    },
    {
      "cell_type": "markdown",
      "source": "Here’s a simple Python function to check if a given string is a palindrome:",
      "metadata": {}
    },
    {
      "cell_type": "code",
      "source": "def is_palindrome(s):\n    # Normalize the string by removing spaces and converting to lowercase\n    normalized_str = ''.join(s.split()).lower()\n    return normalized_str == normalized_str[::-1]\n\n# Example usage\ninput_string = \"A man a plan a canal Panama\"\nresult = is_palindrome(input_string)\nprint(result) ",
      "metadata": {
        "trusted": true
      },
      "outputs": [
        {
          "name": "stdout",
          "text": "True\n",
          "output_type": "stream"
        }
      ],
      "execution_count": 4
    },
    {
      "cell_type": "markdown",
      "source": "This code ignores spaces and is case-insensitive. ",
      "metadata": {}
    },
    {
      "cell_type": "markdown",
      "source": "## 4. Write a code to check if two given strings are anagrams of each other.",
      "metadata": {}
    },
    {
      "cell_type": "markdown",
      "source": "Here’s a simple Python function to check if two given strings are anagrams of each other:",
      "metadata": {}
    },
    {
      "cell_type": "code",
      "source": "def are_anagrams(s1, s2):\n    # Normalize the strings by removing spaces and converting to lowercase\n    normalized_s1 = ''.join(s1.split()).lower()\n    normalized_s2 = ''.join(s2.split()).lower()\n    \n    # Sort the characters and compare\n    return sorted(normalized_s1) == sorted(normalized_s2)\n\n# Example usage\nstring1 = \"Listen\"\nstring2 = \"Silent\"\nresult = are_anagrams(string1, string2)\nprint(result) ",
      "metadata": {
        "trusted": true
      },
      "outputs": [
        {
          "name": "stdout",
          "text": "True\n",
          "output_type": "stream"
        }
      ],
      "execution_count": 5
    },
    {
      "cell_type": "markdown",
      "source": "This function checks for anagrams by sorting the characters in both strings after normalizing them.",
      "metadata": {}
    },
    {
      "cell_type": "markdown",
      "source": "## 5. Write a code to find all occurrences of a given substring within another string.",
      "metadata": {}
    },
    {
      "cell_type": "markdown",
      "source": "Here’s a Python function that finds all occurrences of a given substring within another string:",
      "metadata": {}
    },
    {
      "cell_type": "code",
      "source": "def find_substring_occurrences(string, substring):\n    occurrences = []\n    start = 0\n\n    while True:\n        start = string.find(substring, start)\n        if start == -1:  # No more occurrences found\n            break\n        occurrences.append(start)\n        start += 1  # Move past the last found index\n\n    return occurrences\n\n# Example usage\nmain_string = \"Hello, world! Hello, everyone!\"\nsub_string = \"Hello\"\nresult = find_substring_occurrences(main_string, sub_string)\nprint(result)  ",
      "metadata": {
        "trusted": true
      },
      "outputs": [
        {
          "name": "stdout",
          "text": "[0, 14]\n",
          "output_type": "stream"
        }
      ],
      "execution_count": 6
    },
    {
      "cell_type": "markdown",
      "source": "This code uses the find method to locate the substring and stores the starting indices of each occurrence.",
      "metadata": {}
    },
    {
      "cell_type": "markdown",
      "source": "## 6. Write a code to perform basic string compression using the counts of repeated characters.",
      "metadata": {}
    },
    {
      "cell_type": "markdown",
      "source": "Here’s a simple Python function to perform basic string compression using the counts of repeated characters:",
      "metadata": {}
    },
    {
      "cell_type": "code",
      "source": "def compress_string(s):\n    if not s:\n        return \"\"\n    \n    compressed = []\n    count = 1\n\n    for i in range(1, len(s)):\n        if s[i] == s[i - 1]:\n            count += 1\n        else:\n            compressed.append(s[i - 1] + str(count))\n            count = 1\n\n    # Append the last character and its count\n    compressed.append(s[-1] + str(count))\n    \n    compressed_string = ''.join(compressed)\n    return compressed_string if len(compressed_string) < len(s) else s\n\n# Example usage\ninput_string = \"aaabbcdddd\"\nresult = compress_string(input_string)\nprint(result) ",
      "metadata": {
        "trusted": true
      },
      "outputs": [
        {
          "name": "stdout",
          "text": "a3b2c1d4\n",
          "output_type": "stream"
        }
      ],
      "execution_count": 8
    },
    {
      "cell_type": "markdown",
      "source": "This code compresses the string by counting consecutive repeated characters and returns the compressed string if it's shorter than the original.",
      "metadata": {}
    },
    {
      "cell_type": "markdown",
      "source": "## 7. Write a code to determine if a string has all unique characters.",
      "metadata": {}
    },
    {
      "cell_type": "markdown",
      "source": "Here’s a simple Python function to determine if a string has all unique characters:",
      "metadata": {}
    },
    {
      "cell_type": "code",
      "source": "def has_unique_characters(s):\n    # Use a set to track characters we've seen\n    seen = set()\n    \n    for char in s:\n        if char in seen:\n            return False  # Found a duplicate\n        seen.add(char)\n    \n    return True  # All characters are unique\n\n# Example usage\ninput_string = \"abcdefg\"\nresult = has_unique_characters(input_string)\nprint(result) ",
      "metadata": {
        "trusted": true
      },
      "outputs": [
        {
          "name": "stdout",
          "text": "True\n",
          "output_type": "stream"
        }
      ],
      "execution_count": 9
    },
    {
      "cell_type": "markdown",
      "source": "This code uses a set to efficiently check for duplicates as it iterates through the string. ",
      "metadata": {}
    },
    {
      "cell_type": "markdown",
      "source": "## 8. Write a code to convert a given string to uppercase or lowercase.",
      "metadata": {}
    },
    {
      "cell_type": "markdown",
      "source": "Here’s a simple Python code snippet to convert a given string to uppercase or lowercase:",
      "metadata": {}
    },
    {
      "cell_type": "code",
      "source": "def convert_case(s, to_upper=True):\n    if to_upper:\n        return s.upper()  # Convert to uppercase\n    else:\n        return s.lower()  # Convert to lowercase\n\n# Example usage\ninput_string = \"Hello, World!\"\nupper_case = convert_case(input_string, to_upper=True)\nlower_case = convert_case(input_string, to_upper=False)\n\nprint(upper_case)  \nprint(lower_case)  ",
      "metadata": {
        "trusted": true
      },
      "outputs": [
        {
          "name": "stdout",
          "text": "HELLO, WORLD!\nhello, world!\n",
          "output_type": "stream"
        }
      ],
      "execution_count": 10
    },
    {
      "cell_type": "markdown",
      "source": "This function takes a string and a boolean argument to determine whether to convert to uppercase or lowercase.",
      "metadata": {}
    },
    {
      "cell_type": "markdown",
      "source": "## 9. Write a code to count the number of words in a string. ",
      "metadata": {}
    },
    {
      "cell_type": "markdown",
      "source": "Here’s a simple Python function to count the number of words in a string:",
      "metadata": {}
    },
    {
      "cell_type": "code",
      "source": "def count_words(s):\n    # Split the string into words based on whitespace\n    words = s.split()\n    return len(words)\n\n# Example usage\ninput_string = \"Hello, world! This is a test.\"\nword_count = count_words(input_string)\nprint(word_count) ",
      "metadata": {
        "trusted": true
      },
      "outputs": [
        {
          "name": "stdout",
          "text": "6\n",
          "output_type": "stream"
        }
      ],
      "execution_count": 13
    },
    {
      "cell_type": "markdown",
      "source": "This code splits the string by whitespace and counts the resulting words. ",
      "metadata": {}
    },
    {
      "cell_type": "markdown",
      "source": "## 10. Write a code to concatenate two strings without using the + operator.",
      "metadata": {}
    },
    {
      "cell_type": "markdown",
      "source": "We can concatenate two strings without using the + operator in Python by using the join method or str.format(). Here’s an example using both approaches:",
      "metadata": {}
    },
    {
      "cell_type": "markdown",
      "source": "### Using join Method",
      "metadata": {}
    },
    {
      "cell_type": "code",
      "source": "def concatenate_strings(s1, s2):\n    return ''.join([s1, s2])\n\n# Example usage\nstring1 = \"Hello\"\nstring2 = \" World!\"\nresult = concatenate_strings(string1, string2)\nprint(result) ",
      "metadata": {
        "trusted": true
      },
      "outputs": [
        {
          "name": "stdout",
          "text": "Hello World!\n",
          "output_type": "stream"
        }
      ],
      "execution_count": 16
    },
    {
      "cell_type": "markdown",
      "source": "### Using str.format()",
      "metadata": {}
    },
    {
      "cell_type": "code",
      "source": "def concatenate_strings(s1, s2):\n    return \"{}{}\".format(s1, s2)\n\n# Example usage\nstring1 = \"Hello\"\nstring2 = \" World!\"\nresult = concatenate_strings(string1, string2)\nprint(result) ",
      "metadata": {
        "trusted": true
      },
      "outputs": [
        {
          "name": "stdout",
          "text": "Hello World!\n",
          "output_type": "stream"
        }
      ],
      "execution_count": 17
    },
    {
      "cell_type": "markdown",
      "source": "Both methods effectively concatenate the strings without using the + operator.",
      "metadata": {}
    },
    {
      "cell_type": "markdown",
      "source": "## 11. Write a code to remove all occurrences of a specific element from a list.",
      "metadata": {}
    },
    {
      "cell_type": "markdown",
      "source": "Here’s a simple Python function to remove all occurrences of a specific element from a list:",
      "metadata": {}
    },
    {
      "cell_type": "code",
      "source": "def remove_occurrences(lst, element):\n    return [item for item in lst if item != element]\n\n# Example usage\nmy_list = [1, 2, 3, 2, 4, 2, 5]\nelement_to_remove = 2\nresult = remove_occurrences(my_list, element_to_remove)\nprint(result)",
      "metadata": {
        "trusted": true
      },
      "outputs": [
        {
          "name": "stdout",
          "text": "[1, 3, 4, 5]\n",
          "output_type": "stream"
        }
      ],
      "execution_count": 19
    },
    {
      "cell_type": "markdown",
      "source": "This code uses a list comprehension to create a new list that contains only the items that are not equal to the specified element. ",
      "metadata": {}
    },
    {
      "cell_type": "markdown",
      "source": "## 12. Implement a code to find the second largest number in a given list of integers.",
      "metadata": {}
    },
    {
      "cell_type": "markdown",
      "source": "Here’s a Python function to find the second largest number in a given list of integers:",
      "metadata": {}
    },
    {
      "cell_type": "code",
      "source": "def second_largest(nums):\n    if len(nums) < 2:\n        return None  # Not enough elements\n\n    first, second = float('-inf'), float('-inf')\n\n    for num in nums:\n        if num > first:\n            second = first\n            first = num\n        elif first > num > second:\n            second = num\n\n    return second if second != float('-inf') else None\n\n# Example usage\nmy_list = [10, 20, 4, 45, 99]\nresult = second_largest(my_list)\nprint(result)  ",
      "metadata": {
        "trusted": true
      },
      "outputs": [
        {
          "name": "stdout",
          "text": "45\n",
          "output_type": "stream"
        }
      ],
      "execution_count": 20
    },
    {
      "cell_type": "markdown",
      "source": "This function iterates through the list to find the first and second largest numbers without sorting the list, which makes it efficient. If there are fewer than two unique numbers, it returns None.",
      "metadata": {}
    },
    {
      "cell_type": "markdown",
      "source": "## 13. Create a code to count the occurrences of each element in a list and return a dictionary with elements as keys and their counts as values.",
      "metadata": {}
    },
    {
      "cell_type": "markdown",
      "source": "Here’s a Python function that counts the occurrences of each element in a list and returns a dictionary with elements as keys and their counts as values:",
      "metadata": {}
    },
    {
      "cell_type": "code",
      "source": "def count_occurrences(lst):\n    counts = {}\n    for item in lst:\n        if item in counts:\n            counts[item] += 1\n        else:\n            counts[item] = 1\n    return counts\n\n# Example usage\nmy_list = [1, 2, 2, 3, 1, 4, 3, 3]\nresult = count_occurrences(my_list)\nprint(result) ",
      "metadata": {
        "trusted": true
      },
      "outputs": [
        {
          "name": "stdout",
          "text": "{1: 2, 2: 2, 3: 3, 4: 1}\n",
          "output_type": "stream"
        }
      ],
      "execution_count": 21
    },
    {
      "cell_type": "markdown",
      "source": "This code iterates through the list and updates the counts in the dictionary.",
      "metadata": {}
    },
    {
      "cell_type": "markdown",
      "source": "## 14. Write a code to reverse a list in-place without using an  built-in reverse functions.",
      "metadata": {}
    },
    {
      "cell_type": "markdown",
      "source": "Here’s a Python function to reverse a list in-place without using built-in reverse functions:",
      "metadata": {}
    },
    {
      "cell_type": "code",
      "source": "def reverse_list(lst):\n    left, right = 0, len(lst) - 1\n\n    while left < right:\n        # Swap the elements\n        lst[left], lst[right] = lst[right], lst[left]\n        # Move towards the middle\n        left += 1\n        right -= 1\n\n# Example usage\nmy_list = [1, 2, 3, 4, 5]\nreverse_list(my_list)\nprint(my_list) ",
      "metadata": {
        "trusted": true
      },
      "outputs": [
        {
          "name": "stdout",
          "text": "[5, 4, 3, 2, 1]\n",
          "output_type": "stream"
        }
      ],
      "execution_count": 22
    },
    {
      "cell_type": "markdown",
      "source": "This function uses two pointers to swap elements from the start and end of the list, moving towards the center.",
      "metadata": {}
    },
    {
      "cell_type": "markdown",
      "source": "## 15. Implement a code to find and remove duplicates from a list while preserving the original order of elements.",
      "metadata": {}
    },
    {
      "cell_type": "markdown",
      "source": "Here’s a Python function that finds and removes duplicates from a list while preserving the original order of elements:",
      "metadata": {}
    },
    {
      "cell_type": "code",
      "source": "def remove_duplicates(lst):\n    seen = set()\n    result = []\n    \n    for item in lst:\n        if item not in seen:\n            seen.add(item)\n            result.append(item)\n    \n    return result\n\n# Example usage\nmy_list = [1, 2, 3, 2, 4, 3, 5, 1]\nresult = remove_duplicates(my_list)\nprint(result) ",
      "metadata": {
        "trusted": true
      },
      "outputs": [
        {
          "name": "stdout",
          "text": "[1, 2, 3, 4, 5]\n",
          "output_type": "stream"
        }
      ],
      "execution_count": 23
    },
    {
      "cell_type": "markdown",
      "source": "This function uses a set to track seen elements and a list to store the results, ensuring that the original order is preserved. ",
      "metadata": {}
    },
    {
      "cell_type": "markdown",
      "source": "## 16. Create a code to check if a given list is sorted (either in ascending or descending order) or not.",
      "metadata": {}
    },
    {
      "cell_type": "markdown",
      "source": "Here’s a Python function to check if a given list is sorted in either ascending or descending order:",
      "metadata": {}
    },
    {
      "cell_type": "code",
      "source": "def is_sorted(lst):\n    if len(lst) < 2:\n        return True  # A list with 0 or 1 element is considered sorted\n\n    ascending = all(lst[i] <= lst[i + 1] for i in range(len(lst) - 1))\n    descending = all(lst[i] >= lst[i + 1] for i in range(len(lst) - 1))\n\n    return ascending or descending\n\n# Example usage\nmy_list_asc = [1, 2, 3, 4, 5]\nmy_list_desc = [5, 4, 3, 2, 1]\nmy_list_unsorted = [1, 3, 2, 4]\n\nprint(is_sorted(my_list_asc))     \nprint(is_sorted(my_list_desc))    \nprint(is_sorted(my_list_unsorted))  ",
      "metadata": {
        "trusted": true
      },
      "outputs": [
        {
          "name": "stdout",
          "text": "True\nTrue\nFalse\n",
          "output_type": "stream"
        }
      ],
      "execution_count": 24
    },
    {
      "cell_type": "markdown",
      "source": "This function checks if all elements are in ascending or descending order by using the all() function.",
      "metadata": {}
    },
    {
      "cell_type": "markdown",
      "source": "## 17. Write a code to merge two sorted lists into a single sorted list.",
      "metadata": {}
    },
    {
      "cell_type": "markdown",
      "source": "Here’s a Python function to merge two sorted lists into a single sorted list:",
      "metadata": {}
    },
    {
      "cell_type": "code",
      "source": "def merge_sorted_lists(list1, list2):\n    merged_list = []\n    i, j = 0, 0\n\n    # Traverse both lists and append the smaller element to the merged list\n    while i < len(list1) and j < len(list2):\n        if list1[i] < list2[j]:\n            merged_list.append(list1[i])\n            i += 1\n        else:\n            merged_list.append(list2[j])\n            j += 1\n\n    # If there are remaining elements in list1, append them\n    while i < len(list1):\n        merged_list.append(list1[i])\n        i += 1\n\n    # If there are remaining elements in list2, append them\n    while j < len(list2):\n        merged_list.append(list2[j])\n        j += 1\n\n    return merged_list\n\n# Example usage\nlist1 = [1, 3, 5]\nlist2 = [2, 4, 6]\nresult = merge_sorted_lists(list1, list2)\nprint(result) ",
      "metadata": {
        "trusted": true
      },
      "outputs": [
        {
          "name": "stdout",
          "text": "[1, 2, 3, 4, 5, 6]\n",
          "output_type": "stream"
        }
      ],
      "execution_count": 25
    },
    {
      "cell_type": "markdown",
      "source": "This function uses two pointers to traverse both lists and merge them in sorted order. ",
      "metadata": {}
    },
    {
      "cell_type": "markdown",
      "source": "## 18. Implement a code to find the intersection of two given lists.",
      "metadata": {}
    },
    {
      "cell_type": "markdown",
      "source": "Here’s a Python function to find the intersection of two given lists:",
      "metadata": {}
    },
    {
      "cell_type": "code",
      "source": "def intersection(list1, list2):\n    # Convert one of the lists to a set for faster lookups\n    set2 = set(list2)\n    return [item for item in list1 if item in set2]\n\n# Example usage\nlist1 = [1, 2, 3, 4, 5]\nlist2 = [4, 5, 6, 7, 8]\nresult = intersection(list1, list2)\nprint(result) ",
      "metadata": {
        "trusted": true
      },
      "outputs": [
        {
          "name": "stdout",
          "text": "[4, 5]\n",
          "output_type": "stream"
        }
      ],
      "execution_count": 26
    },
    {
      "cell_type": "markdown",
      "source": "This function uses a set for efficient lookups and returns a list of items that appear in both input lists.",
      "metadata": {}
    },
    {
      "cell_type": "markdown",
      "source": "## 19. Create a code to find the union of two lists without duplicates.",
      "metadata": {}
    },
    {
      "cell_type": "markdown",
      "source": "Here’s a Python function to find the union of two lists without duplicates:",
      "metadata": {}
    },
    {
      "cell_type": "code",
      "source": "def union_lists(list1, list2):\n    # Use a set to remove duplicates and maintain unique elements\n    union_set = set(list1) | set(list2)\n    return list(union_set)\n\n# Example usage\nlist1 = [1, 2, 3, 4]\nlist2 = [3, 4, 5, 6]\nresult = union_lists(list1, list2)\nprint(result)  ",
      "metadata": {
        "trusted": true
      },
      "outputs": [
        {
          "name": "stdout",
          "text": "[1, 2, 3, 4, 5, 6]\n",
          "output_type": "stream"
        }
      ],
      "execution_count": 28
    },
    {
      "cell_type": "markdown",
      "source": "This function converts both lists to sets, combines them using the union operator, and then converts the result back to a list. This ensures that the output contains only unique elements.",
      "metadata": {}
    },
    {
      "cell_type": "markdown",
      "source": "## 20. Write a code to shuffle a given list randomly without using an built-in shuffle functions.",
      "metadata": {}
    },
    {
      "cell_type": "markdown",
      "source": "Here’s a Python function to shuffle a given list randomly without using built-in shuffle functions. This implementation uses the Fisher-Yates algorithm:",
      "metadata": {}
    },
    {
      "cell_type": "code",
      "source": "import random\n\ndef shuffle_list(lst):\n    # Create a copy of the list to avoid modifying the original\n    shuffled = lst[:]\n    n = len(shuffled)\n\n    # Fisher-Yates shuffle algorithm\n    for i in range(n - 1, 0, -1):\n        # Generate a random index from 0 to i\n        j = random.randint(0, i)\n        # Swap elements at indices i and j\n        shuffled[i], shuffled[j] = shuffled[j], shuffled[i]\n\n    return shuffled\n\n# Example usage\nmy_list = [1, 2, 3, 4, 5]\nshuffled_list = shuffle_list(my_list)\nprint(shuffled_list) ",
      "metadata": {
        "trusted": true
      },
      "outputs": [
        {
          "name": "stdout",
          "text": "[1, 3, 5, 2, 4]\n",
          "output_type": "stream"
        }
      ],
      "execution_count": 29
    },
    {
      "cell_type": "markdown",
      "source": "This code shuffles the list in-place using random swaps and returns a new shuffled list. The original list remains unchanged.",
      "metadata": {}
    },
    {
      "cell_type": "markdown",
      "source": "## 21. Write a code that takes two tuples as input and returns a new tuple containing elements that are common to both input tuples.",
      "metadata": {}
    },
    {
      "cell_type": "markdown",
      "source": "Here’s a Python function that takes two tuples as input and returns a new tuple containing elements that are common to both tuples:",
      "metadata": {}
    },
    {
      "cell_type": "code",
      "source": "def common_elements(tuple1, tuple2):\n    # Use a set to find common elements\n    common = set(tuple1) & set(tuple2)\n    return tuple(common)\n\n# Example usage\ntuple1 = (1, 2, 3, 4)\ntuple2 = (3, 4, 5, 6)\nresult = common_elements(tuple1, tuple2)\nprint(result) ",
      "metadata": {
        "trusted": true
      },
      "outputs": [
        {
          "name": "stdout",
          "text": "(3, 4)\n",
          "output_type": "stream"
        }
      ],
      "execution_count": 30
    },
    {
      "cell_type": "markdown",
      "source": "This function converts both tuples to sets to find the intersection, then converts the result back to a tuple. ",
      "metadata": {}
    },
    {
      "cell_type": "markdown",
      "source": "## 22. Create a code that prompts the user to enter two sets of integers separated by commas. Then, print the intersection of these two sets.",
      "metadata": {}
    },
    {
      "cell_type": "markdown",
      "source": "We can accomplish this in Python using the following code:",
      "metadata": {}
    },
    {
      "cell_type": "code",
      "source": "# Function to get the intersection of two sets of integers\ndef get_intersection():\n    # Prompt user for the first set of integers\n    set1_input = input(\"Enter the first set of integers separated by commas: \")\n    # Prompt user for the second set of integers\n    set2_input = input(\"Enter the second set of integers separated by commas: \")\n    \n    # Convert the input strings into sets of integers\n    set1 = set(map(int, set1_input.split(',')))\n    set2 = set(map(int, set2_input.split(',')))\n    \n    # Calculate the intersection\n    intersection = set1.intersection(set2)\n    \n    # Print the intersection\n    print(\"The intersection of the two sets is:\", intersection)\n    \n    # Call the function\n    get_intersection()\n",
      "metadata": {
        "trusted": true
      },
      "outputs": [],
      "execution_count": null
    },
    {
      "cell_type": "markdown",
      "source": "### How It Works:\n\n    1. The code prompts the user to input two sets of integers, separated by commas.\n   \n    2. It splits the input strings into lists, converts those lists into sets of integers, and then calculates the      intersection of the two sets.\n    \n    3. Finally, it prints the intersection.\n\n### Example Usage:\n\n    * If the user inputs:\n        * First set: 1,2,3,4\n        * Second set: 3,4,5,6\n    * The output will be: The intersection of the two sets is: {3, 4}.",
      "metadata": {}
    },
    {
      "cell_type": "markdown",
      "source": "## 23. Write a code to concatenate two tuples. The function should take two tuples as input and return a new tuple containing elements from both input tuples.",
      "metadata": {}
    },
    {
      "cell_type": "markdown",
      "source": "We can easily concatenate two tuples in Python using the + operator. Here's a function that takes two tuples as input and returns a new tuple containing elements from both:",
      "metadata": {}
    },
    {
      "cell_type": "code",
      "source": "def concatenate_tuples(tuple1, tuple2):\n    # Concatenate the two tuples\n    new_tuple = tuple1 + tuple2\n    return new_tuple\n\n# Example usage\ntuple1 = (1, 2, 3)\ntuple2 = (4, 5, 6)\n\nresult = concatenate_tuples(tuple1, tuple2)\nprint(\"Concatenated Tuple:\", result)",
      "metadata": {
        "trusted": true
      },
      "outputs": [],
      "execution_count": null
    },
    {
      "cell_type": "markdown",
      "source": "### Explanation:\n\n    * Function Definition: The concatenate_tuples function takes two tuples as arguments.\n    * Concatenation: It uses the + operator to concatenate them.\n    * Return: The new concatenated tuple is returned.\n    * Example Usage: The function is called with two sample tuples, and the result is printed.",
      "metadata": {}
    },
    {
      "cell_type": "markdown",
      "source": "## 24. Develop a code that prompts the user to input two sets of strings. Then, print the elements that are present in the first set but not in the second set.",
      "metadata": {}
    },
    {
      "cell_type": "markdown",
      "source": "Here’s a Python code snippet that prompts the user to input two sets of strings and then prints the elements that are present in the first set but not in the second:",
      "metadata": {}
    },
    {
      "cell_type": "code",
      "source": "def difference_of_sets():\n    # Prompt user for the first set of strings\n    set1_input = input(\"Enter the first set of strings separated by commas: \")\n    # Prompt user for the second set of strings\n    set2_input = input(\"Enter the second set of strings separated by commas: \")\n    \n    # Convert the input strings into sets\n    set1 = set(set1_input.split(','))\n    set2 = set(set2_input.split(','))\n    \n    # Calculate the difference\n    difference = set1.difference(set2)\n    \n    # Print the result\n    print(\"Elements present in the first set but not in the second set:\", difference)\n\n# Call the function\ndifference_of_sets()\n",
      "metadata": {
        "trusted": true
      },
      "outputs": [],
      "execution_count": null
    },
    {
      "cell_type": "markdown",
      "source": "### How It Works:\n\n1. The user is prompted to enter two sets of strings, separated by commas.\n2. The input strings are split and converted into sets.\n3. The difference() method is used to find elements that are in the first set but not in the second.\n4. The result is printed.\n\n#### Example Usage:\n\n1. If the user inputs:\n\n\n    * First set: apple,banana,orange\n    * Second set: banana,kiwi\n\n3. The output will be: Elements present in the first set but not in the second set: {'apple', 'orange'}.",
      "metadata": {}
    },
    {
      "cell_type": "markdown",
      "source": "## 25. Create a code that takes a tuple and two integers as input. The function should return a new tuple containing elements from the original tuple within the specified range of indices.",
      "metadata": {}
    },
    {
      "cell_type": "markdown",
      "source": "Here's a Python function that takes a tuple and two integers (for the start and end indices) as input, and returns a new tuple containing elements from the original tuple within the specified range of indices:",
      "metadata": {}
    },
    {
      "cell_type": "code",
      "source": "def slice_tuple(original_tuple, start_index, end_index):\n    # Create a new tuple by slicing the original tuple\n    new_tuple = original_tuple[start_index:end_index]\n    return new_tuple\n\n# Example usage\ninput_tuple = (10, 20, 30, 40, 50, 60)\nstart = 1\nend = 4\n\nresult = slice_tuple(input_tuple, start, end)\nprint(\"Sliced Tuple:\", result)\n",
      "metadata": {
        "trusted": true
      },
      "outputs": [],
      "execution_count": null
    },
    {
      "cell_type": "markdown",
      "source": "### Explanation:\n\n1. Function Definition: The slice_tuple function takes three arguments: the original tuple, the start index, and the end index.\n2. Tuple Slicing: It slices the original tuple using the specified indices.\n3. Return: The new tuple is returned.\n4. Example Usage: The function is called with a sample tuple and indices, and the result is printed.\n\n#### Output:\nIf you run the example, the output will be:",
      "metadata": {}
    },
    {
      "cell_type": "code",
      "source": "Sliced Tuple: (20, 30, 40)",
      "metadata": {
        "trusted": true
      },
      "outputs": [],
      "execution_count": null
    },
    {
      "cell_type": "markdown",
      "source": "Make sure that the provided indices are valid (i.e., start_index should be less than end_index and both should be within the range of the tuple's length) to avoid any errors. ",
      "metadata": {}
    },
    {
      "cell_type": "markdown",
      "source": "## 26. Write a code that prompts the user to input two sets of characters. Then print the union of these two sets.",
      "metadata": {}
    },
    {
      "cell_type": "markdown",
      "source": "Here's a Python code snippet that prompts the user to input two sets of characters and then prints the union of those two sets:",
      "metadata": {}
    },
    {
      "cell_type": "code",
      "source": "def union_of_sets():\n    # Prompt user for the first set of characters\n    set1_input = input(\"Enter the first set of characters separated by commas: \")\n    # Prompt user for the second set of characters\n    set2_input = input(\"Enter the second set of characters separated by commas: \")\n    \n    # Convert the input strings into sets\n    set1 = set(set1_input.split(','))\n    set2 = set(set2_input.split(','))\n    \n    # Calculate the union\n    union = set1.union(set2)\n    \n    # Print the result\n    print(\"Union of the two sets:\", union)\n\n# Call the function\nunion_of_sets()\n",
      "metadata": {
        "trusted": true
      },
      "outputs": [],
      "execution_count": null
    },
    {
      "cell_type": "markdown",
      "source": "### How It Works:\n\n1. The code prompts the user to input two sets of characters, using commas as separators.\n2. The input strings are split into lists and converted into sets.\n3. The union() method is used to calculate the union of the two sets.\n4. Finally, the result is printed.\n\n#### Example Usage:\n\n    1. If the user inputs:\n    * First set: a,b,c\n    * Second set: b,d,e\n\n    2. The output will be: Union of the two sets: {'a', 'b', 'c', 'd', 'e'}.",
      "metadata": {}
    },
    {
      "cell_type": "markdown",
      "source": "## 27. Develop a code that takes a tuple of integers as input. The function should return the maximum and minimum values from the tuple using tuple unpacking.",
      "metadata": {}
    },
    {
      "cell_type": "markdown",
      "source": "Here's a Python code snippet that takes a tuple of integers as input and returns the maximum and minimum values using tuple unpacking:",
      "metadata": {}
    },
    {
      "cell_type": "code",
      "source": "def min_max_from_tuple(int_tuple):\n    # Use built-in functions to get max and min\n    max_value = max(int_tuple)\n    min_value = min(int_tuple)\n    \n    # Return both values as a tuple\n    return max_value, min_value\n\n# Example usage\ninput_tuple = (3, 5, 1, 9, 2)\nmax_value, min_value = min_max_from_tuple(input_tuple)\n\nprint(\"Maximum value:\", max_value) 9\nprint(\"Minimum value:\", min_value) 1\n",
      "metadata": {
        "trusted": true
      },
      "outputs": [],
      "execution_count": null
    },
    {
      "cell_type": "markdown",
      "source": "### How It Works:\n\n1. Function Definition: The min_max_from_tuple function takes a tuple of integers as input.\n\n2. Calculate Max and Min: It uses the max() and min() functions to find the maximum and minimum values in the tuple.\n\n3. Return Values: The function returns both values as a tuple, which allows for tuple unpacking.\n\n4. Example Usage: The code includes an example tuple, calls the function, and prints the maximum and minimum values.",
      "metadata": {}
    },
    {
      "cell_type": "markdown",
      "source": "## 28. Create a code that defines two sets of integers. Then print the union intersection and difference of these two sets.",
      "metadata": {}
    },
    {
      "cell_type": "markdown",
      "source": "Create a code that defines two sets of integers. Then print the union intersection and difference of these two sets.",
      "metadata": {}
    },
    {
      "cell_type": "code",
      "source": "# Define two sets of integers\nset1 = {1, 2, 3, 4, 5}\nset2 = {4, 5, 6, 7, 8}\n\n# Calculate the union\nunion = set1.union(set2)\n\n# Calculate the intersection\nintersection = set1.intersection(set2)\n\n# Calculate the difference (elements in set1 but not in set2)\ndifference = set1.difference(set2)\n\n# Print the results\nprint(\"Set 1:\", set1)\nprint(\"Set 2:\", set2)\nprint(\"Union of the two sets:\", union)\nprint(\"Intersection of the two sets:\", intersection)\nprint(\"Difference (Set 1 - Set 2):\", difference)\n",
      "metadata": {
        "trusted": true
      },
      "outputs": [],
      "execution_count": null
    },
    {
      "cell_type": "code",
      "source": "Set 1: {1, 2, 3, 4, 5}\nSet 2: {4, 5, 6, 7, 8}\nUnion of the two sets: {1, 2, 3, 4, 5, 6, 7, 8}\nIntersection of the two sets: {4, 5}\nDifference (Set 1 - Set 2): {1, 2, 3}",
      "metadata": {
        "trusted": true
      },
      "outputs": [],
      "execution_count": null
    },
    {
      "cell_type": "markdown",
      "source": "### How It Works:\n\n1. Define Sets: Two sets of integers (set1 and set2) are defined.\n\n2. Calculate Union: The union of the two sets is calculated using the union() method.\n\n3. Calculate Intersection: The intersection is calculated using the intersection() method.\n\n4. Calculate Difference: The difference (elements in set1 but not in set2) is calculated using the difference() method.\n\n5. Print Results: The sets and the results are printed.",
      "metadata": {}
    },
    {
      "cell_type": "markdown",
      "source": "## 29. Write a code that takes a tuple and an element as input. The function should return the count of occurrences of the given element in the tuple.",
      "metadata": {}
    },
    {
      "cell_type": "markdown",
      "source": "Here's a Python code snippet that takes a tuple and an element as input, and returns the count of occurrences of that element in the tuple:",
      "metadata": {}
    },
    {
      "cell_type": "code",
      "source": "def count_occurrences(input_tuple, element):\n    # Count the occurrences of the element in the tuple\n    count = input_tuple.count(element)\n    return count\n\n# Example usage\ninput_tuple = (1, 2, 3, 4, 2, 5, 2)\nelement_to_count = 2\n\n# Call the function\noccurrences = count_occurrences(input_tuple, element_to_count)\nprint(f\"The element {element_to_count} occurs {occurrences} times in the tuple.\")\n\nOutput = 2",
      "metadata": {
        "trusted": true
      },
      "outputs": [],
      "execution_count": null
    },
    {
      "cell_type": "markdown",
      "source": "### How It Works:\n\n1. Function Definition: The count_occurrences function takes a tuple and an element as arguments.\n\n2. Count Occurrences: It uses the count() method of the tuple to find how many times the specified element appears.\n\n3. Return Count: The function returns the count.\n\n4. Example Usage: The code includes an example tuple and an element to count, and it prints the result.",
      "metadata": {}
    },
    {
      "cell_type": "markdown",
      "source": "## 30. Develop a code that prompts the user to input two sets of strings. Then, print the symmetric difference of these two sets.",
      "metadata": {}
    },
    {
      "cell_type": "markdown",
      "source": "Here's a Python code snippet that prompts the user to input two sets of strings and then prints the symmetric difference of those sets:",
      "metadata": {}
    },
    {
      "cell_type": "code",
      "source": "def symmetric_difference_of_sets():\n    # Prompt user for the first set of strings\n    set1_input = input(\"Enter the first set of strings separated by commas: \")\n    # Prompt user for the second set of strings\n    set2_input = input(\"Enter the second set of strings separated by commas: \")\n    \n    # Convert the input strings into sets\n    set1 = set(set1_input.split(','))\n    set2 = set(set2_input.split(','))\n    \n    # Calculate the symmetric difference\n    symmetric_difference = set1.symmetric_difference(set2)\n    \n    # Print the result\n    print(\"Symmetric difference of the two sets:\", symmetric_difference)\n\n# Call the function\nsymmetric_difference_of_sets()\n",
      "metadata": {
        "trusted": true
      },
      "outputs": [],
      "execution_count": null
    },
    {
      "cell_type": "markdown",
      "source": "### How It Works:\n\n1. User Input: The program prompts the user to enter two sets of strings, separated by commas.\n\n2. Convert to Sets: The input strings are split and converted into sets.\n\n3. Symmetric Difference: The symmetric difference is calculated using the symmetric_difference() method.\n\n4. Print Result: Finally, the result is printed.\n\n#### Example Usage:\n\n1. If the user inputs:\n    \n    * First set: apple,banana,orange\n    * Second set: banana,kiwi\n\n2. The output will be: Symmetric difference of the two sets: {'orange', 'kiwi', 'apple'}.",
      "metadata": {}
    },
    {
      "cell_type": "markdown",
      "source": "## 31. Write a code that takes a list of words as input and returns a dictionary where the keys are unique words and the values are the frequencies of those words in the input list.",
      "metadata": {}
    },
    {
      "cell_type": "markdown",
      "source": "Here’s a Python code snippet that takes a list of words as input and returns a dictionary where the keys are unique words and the values are their frequencies:",
      "metadata": {}
    },
    {
      "cell_type": "code",
      "source": "def word_frequencies(word_list):\n    # Create a dictionary to store word frequencies\n    frequency_dict = {}\n    \n    for word in word_list:\n        # Update the frequency count for each word\n        if word in frequency_dict:\n            frequency_dict[word] += 1\n        else:\n            frequency_dict[word] = 1\n            \n    return frequency_dict\n\n# Example usage\ninput_list = [\"apple\", \"banana\", \"apple\", \"orange\", \"banana\", \"apple\"]\nresult = word_frequencies(input_list)\n\nprint(\"Word Frequencies:\", result)\n",
      "metadata": {
        "trusted": true
      },
      "outputs": [],
      "execution_count": null
    },
    {
      "cell_type": "markdown",
      "source": "### How It Works:\n\n1. Function Definition: The word_frequencies function takes a list of words as input.\n\n2. Dictionary Creation: An empty dictionary (frequency_dict) is initialized to hold the word frequencies.\n\n3. Counting Frequencies: The code iterates over each word in the list:\n\n    * If the word is already a key in the dictionary, its count is incremented.\n    * If the word is not present, it is added to the dictionary with a count of 1.\n\n4. Return Result: The function returns the frequency dictionary.\n\n5. Example Usage: An example list of words is provided, and the function is called to print the result.\n\n#### Output:\n\nFor the example list [\"apple\", \"banana\", \"apple\", \"orange\", \"banana\", \"apple\"], the output will be:",
      "metadata": {}
    },
    {
      "cell_type": "code",
      "source": "Word Frequencies: {'apple': 3, 'banana': 2, 'orange': 1}",
      "metadata": {
        "trusted": true
      },
      "outputs": [],
      "execution_count": null
    },
    {
      "cell_type": "markdown",
      "source": "## 32. Write a code that takes two dictionaries as input and merges them into a single dictionary. If there are common keys the values should be added together.",
      "metadata": {}
    },
    {
      "cell_type": "markdown",
      "source": "Here's a Python code snippet that takes two dictionaries as input and merges them into a single dictionary. If there are common keys, the values are added together:",
      "metadata": {}
    },
    {
      "cell_type": "code",
      "source": "def merge_dictionaries(dict1, dict2):\n    # Create a new dictionary to hold the merged result\n    merged_dict = dict1.copy()  # Start with a copy of the first dictionary\n\n    for key, value in dict2.items():\n        if key in merged_dict:\n            # If the key exists, add the values together\n            merged_dict[key] += value\n        else:\n            # If the key does not exist, add it to the merged dictionary\n            merged_dict[key] = value\n\n    return merged_dict\n\n# Example usage\ndict1 = {'a': 1, 'b': 2, 'c': 3}\ndict2 = {'b': 3, 'c': 4, 'd': 5}\n\nmerged_result = merge_dictionaries(dict1, dict2)\nprint(\"Merged Dictionary:\", merged_result)\n",
      "metadata": {
        "trusted": true
      },
      "outputs": [],
      "execution_count": null
    },
    {
      "cell_type": "markdown",
      "source": "### How It Works:\n\n1. Function Definition: The merge_dictionaries function takes two dictionaries as arguments.\n\n2. Copy First Dictionary: It starts with a copy of the first dictionary to avoid modifying it.\n\n3. Iterate Over Second Dictionary: It iterates through each key-value pair in the second dictionary:\n\n    * If the key already exists in the merged dictionary, it adds the values together.\n    * If the key does not exist, it simply adds the key-value pair to the merged dictionary.\n\n4. Return Result: The function returns the merged dictionary.\n\n5. Example Usage: Two example dictionaries are provided, and the function is called to print the result.\n\n#### Output:\n\nFor the example dictionaries:\n\ndict1 = {'a': 1, 'b': 2, 'c': 3}\ndict2 = {'b': 3, 'c': 4, 'd': 5}\nThe output will be:",
      "metadata": {}
    },
    {
      "cell_type": "code",
      "source": "Merged Dictionary: {'a': 1, 'b': 5, 'c': 7, 'd': 5}",
      "metadata": {
        "trusted": true
      },
      "outputs": [],
      "execution_count": null
    },
    {
      "cell_type": "markdown",
      "source": "## 33. Write a code to access a value in a nested dictionary. The function should take the dictionary and a list of keys as input and return the corresponding value. If any of the keys do not exist in the dictionary the function should return None.",
      "metadata": {}
    },
    {
      "cell_type": "markdown",
      "source": "Here's a Python code snippet that defines a function to access a value in a nested dictionary based on a list of keys. If any of the keys do not exist, the function returns None:",
      "metadata": {}
    },
    {
      "cell_type": "code",
      "source": "def access_nested_dict(nested_dict, keys):\n    # Start with the nested dictionary\n    current_value = nested_dict\n    \n    for key in keys:\n        # Check if the current key exists in the current level of the dictionary\n        if isinstance(current_value, dict) and key in current_value:\n            current_value = current_value[key]  # Move to the next level\n        else:\n            return None  # Return None if the key does not exist\n    \n    return current_value  # Return the final value if all keys were found\n\n# Example usage\nnested_dict = {\n    'a': {\n        'b': {\n            'c': 10,\n            'd': 20\n        },\n        'e': 30\n    },\n    'f': 40\n}\n\n# Test with a valid key path\nkeys = ['a', 'b', 'c']\nresult = access_nested_dict(nested_dict, keys)\nprint(\"Value found:\", result)  # Output: Value found: 10\n\n# Test with an invalid key path\ninvalid_keys = ['a', 'b', 'x']\nresult_invalid = access_nested_dict(nested_dict, invalid_keys)\nprint(\"Value found:\", result_invalid)  # Output: Value found: None\n",
      "metadata": {
        "trusted": true
      },
      "outputs": [],
      "execution_count": null
    },
    {
      "cell_type": "markdown",
      "source": "### How It Works:\n\n1. Function Definition: The access_nested_dict function takes a nested dictionary and a list of keys as input.\n\n2. Current Value: It initializes current_value with the entire nested dictionary.\n\n3. Iterate Through Keys: The function iterates through each key in the list:\n\n    * It checks if the current current_value is a dictionary and if the key exists.\n    * If it exists, it updates current_value to the corresponding value.\n    * If the key does not exist at any point, it returns None.\n\n4. Return Value: If all keys are found, it returns the final value.\n\n5. Example Usage: Two test cases are provided to demonstrate functionality with both valid and invalid key paths.",
      "metadata": {}
    },
    {
      "cell_type": "markdown",
      "source": "## 34. Write a code that takes a dictionary as input and returns a sorted version of it based on the values. You can choose whether to sort in ascending or descending order.",
      "metadata": {}
    },
    {
      "cell_type": "markdown",
      "source": "Here’s a Python code snippet that takes a dictionary as input and returns a sorted version of it based on the values. You can choose to sort in either ascending or descending order:",
      "metadata": {}
    },
    {
      "cell_type": "code",
      "source": "def sort_dict_by_values(input_dict, descending=False):\n    # Sort the dictionary by values and return a new sorted dictionary\n    sorted_dict = dict(sorted(input_dict.items(), key=lambda item: item[1], reverse=descending))\n    return sorted_dict\n\n# Example usage\ninput_dict = {\n    'apple': 3,\n    'banana': 1,\n    'cherry': 5,\n    'date': 2\n}\n\n# Sort in ascending order\nsorted_ascending = sort_dict_by_values(input_dict)\nprint(\"Sorted Dictionary (Ascending):\", sorted_ascending)\n\n# Sort in descending order\nsorted_descending = sort_dict_by_values(input_dict, descending=True)\nprint(\"Sorted Dictionary (Descending):\", sorted_descending)\n",
      "metadata": {
        "trusted": true
      },
      "outputs": [],
      "execution_count": null
    },
    {
      "cell_type": "markdown",
      "source": "### How It Works:\n\n1. Function Definition: The sort_dict_by_values function takes a dictionary and a boolean descending parameter (default is False for ascending order).\n\n2. Sorting: It uses the sorted() function:\n\n    * The key parameter is set to sort by the dictionary values using a lambda function (lambda item: item[1]).\n    \n    * The reverse parameter is set based on the descending argument.\n\n3. Return Result: The function returns a new sorted dictionary.\n\n4. Example Usage: The code demonstrates sorting a sample dictionary in both ascending and descending order.\n\n#### Output:\n\nFor the input dictionary:",
      "metadata": {}
    },
    {
      "cell_type": "code",
      "source": "{\n    'apple': 3,\n    'banana': 1,\n    'cherry': 5,\n    'date': 2\n}",
      "metadata": {
        "trusted": true
      },
      "outputs": [],
      "execution_count": null
    },
    {
      "cell_type": "markdown",
      "source": "The output will be:",
      "metadata": {}
    },
    {
      "cell_type": "code",
      "source": "Sorted Dictionary (Ascending): {'banana': 1, 'date': 2, 'apple': 3, 'cherry': 5}\nSorted Dictionary (Descending): {'cherry': 5, 'apple': 3, 'date': 2, 'banana': 1}",
      "metadata": {
        "trusted": true
      },
      "outputs": [],
      "execution_count": null
    },
    {
      "cell_type": "markdown",
      "source": "## 35. Write a code that inverts a dictionary swapping keys and values. Ensure that the inverted dictionary correctly handles cases where multiple keys have the same value by storing the keys as a list in the inverted dictionary.",
      "metadata": {}
    },
    {
      "cell_type": "markdown",
      "source": "Here's a Python code snippet that inverts a dictionary by swapping keys and values. It ensures that if multiple keys have the same value, those keys are stored as a list in the inverted dictionary:",
      "metadata": {}
    },
    {
      "cell_type": "code",
      "source": "def invert_dictionary(input_dict):\n    inverted_dict = {}\n\n    for key, value in input_dict.items():\n        # If the value is already a key in the inverted dictionary\n        if value in inverted_dict:\n            # Append the key to the list of keys\n            inverted_dict[value].append(key)\n        else:\n            # Create a new entry with the value as the key and the key as the first item in a list\n            inverted_dict[value] = [key]\n\n    return inverted_dict\n\n# Example usage\ninput_dict = {\n    'a': 1,\n    'b': 2,\n    'c': 1,\n    'd': 3\n}\n\ninverted_result = invert_dictionary(input_dict)\nprint(\"Inverted Dictionary:\", inverted_result)\n",
      "metadata": {
        "trusted": true
      },
      "outputs": [],
      "execution_count": null
    },
    {
      "cell_type": "markdown",
      "source": "### How It Works:\n\n1. Function Definition: The invert_dictionary function takes a dictionary as input.\n\n2. Initialize Inverted Dictionary: An empty dictionary inverted_dict is initialized to store the inverted results.\n\n    * Iterate Through Input Dictionary: For each key-value pair in the input dictionary:\n    * If the value is already a key in inverted_dict, the current key is appended to the list associated with that value.\n    * If the value is not already a key, a new entry is created, with the value as the key and a list containing the current key as its value.\n\n3. Return Result: The function returns the inverted dictionary.\n\n4. Example Usage: The code demonstrates the inversion of a sample dictionary.\n\n#### Output:\n\nFor the input dictionary:",
      "metadata": {}
    },
    {
      "cell_type": "code",
      "source": "{\n    'a': 1,\n    'b': 2,\n    'c': 1,\n    'd': 3\n}\n",
      "metadata": {
        "trusted": true
      },
      "outputs": [],
      "execution_count": null
    },
    {
      "cell_type": "markdown",
      "source": "The output will be:",
      "metadata": {}
    },
    {
      "cell_type": "code",
      "source": "Inverted Dictionary: {1: ['a', 'c'], 2: ['b'], 3: ['d']}",
      "metadata": {
        "trusted": true
      },
      "outputs": [],
      "execution_count": null
    },
    {
      "cell_type": "code",
      "source": "",
      "metadata": {
        "trusted": true
      },
      "outputs": [],
      "execution_count": null
    }
  ]
}